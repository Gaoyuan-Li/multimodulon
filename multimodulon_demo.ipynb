{
 "cells": [
  {
   "cell_type": "markdown",
   "metadata": {},
   "source": [
    "# MultiModulon Analysis Demo\n",
    "\n",
    "This notebook demonstrates the complete workflow for multi-species/strain modular analysis using the MultiModulon package."
   ]
  },
  {
   "cell_type": "markdown",
   "metadata": {},
   "source": [
    "## Setup and Imports"
   ]
  },
  {
   "cell_type": "code",
   "execution_count": null,
   "metadata": {},
   "outputs": [],
   "source": [
    "# Import required libraries\n",
    "from multimodulon import MultiModulon\n",
    "import pandas as pd\n",
    "import numpy as np\n",
    "import matplotlib.pyplot as plt\n",
    "import logging\n",
    "\n",
    "# Set up logging\n",
    "logging.basicConfig(level=logging.INFO, format='%(asctime)s - %(name)s - %(levelname)s - %(message)s')\n",
    "\n",
    "# Set display options\n",
    "pd.set_option('display.max_columns', None)\n",
    "pd.set_option('display.max_rows', 50)\n",
    "\n",
    "print(\"Setup complete!\")"
   ]
  },
  {
   "cell_type": "markdown",
   "metadata": {},
   "source": [
    "## Step 1: Initialize MultiModulon\n",
    "\n",
    "Load data from the Input_Data directory containing expression matrices, gene annotations, and sample metadata for all strains."
   ]
  },
  {
   "cell_type": "code",
   "execution_count": null,
   "metadata": {},
   "outputs": [],
   "source": [
    "# Path to the Input_Data folder\n",
    "input_data_path = '../imminer_2_industrial_strain/Input_Data'\n",
    "\n",
    "# Initialize MultiModulon object\n",
    "multiModulon = MultiModulon(input_data_path)\n",
    "\n",
    "# Print summary\n",
    "multiModulon.summary()"
   ]
  },
  {
   "cell_type": "code",
   "execution_count": null,
   "metadata": {},
   "outputs": [],
   "source": [
    "# Explore available strains\n",
    "available_strains = multiModulon.species\n",
    "print(f\"Available strains: {available_strains}\")\n",
    "print(f\"Number of strains: {len(available_strains)}\")"
   ]
  },
  {
   "cell_type": "code",
   "execution_count": null,
   "metadata": {},
   "outputs": [],
   "source": [
    "# Examine data for the first strain\n",
    "first_strain = available_strains[0]\n",
    "strain_data = multiModulon[first_strain]\n",
    "\n",
    "print(f\"\\n{first_strain} data:\")\n",
    "print(f\"  - Log TPM matrix shape: {strain_data.log_tpm.shape}\")\n",
    "print(f\"  - Log TPM normalized matrix shape: {strain_data.log_tpm_norm.shape}\")\n",
    "print(f\"  - Sample sheet shape: {strain_data.sample_sheet.shape}\")\n",
    "print(f\"\\nFirst 5 genes:\")\n",
    "print(strain_data.log_tpm.index[:5].tolist())\n",
    "print(f\"\\nFirst 5 samples:\")\n",
    "print(strain_data.log_tpm.columns[:5].tolist())"
   ]
  },
  {
   "cell_type": "markdown",
   "metadata": {},
   "source": [
    "## Step 2: Generate BBH Files\n",
    "\n",
    "Generate Bidirectional Best Hits (BBH) files for ortholog detection between all strain pairs."
   ]
  },
  {
   "cell_type": "code",
   "execution_count": null,
   "metadata": {},
   "outputs": [],
   "source": [
    "# Generate BBH files using multiple threads for faster computation\n",
    "output_bbh_path = '../imminer_2_industrial_strain/Output_BBH'\n",
    "\n",
    "print(\"Generating BBH files...\")\n",
    "print(\"This may take several minutes depending on the number of strains and genes.\")\n",
    "\n",
    "multiModulon.generate_BBH(output_bbh_path, threads=8)"
   ]
  },
  {
   "cell_type": "markdown",
   "metadata": {},
   "source": [
    "## Step 3: Align Genes Across Strains\n",
    "\n",
    "Create a unified gene database by aligning genes across all strains using the BBH results."
   ]
  },
  {
   "cell_type": "code",
   "execution_count": null,
   "metadata": {},
   "outputs": [],
   "source": [
    "# Align genes across all strains\n",
    "output_gene_info_path = '../imminer_2_industrial_strain/Output_Gene_Info'\n",
    "\n",
    "combined_gene_db = multiModulon.align_genes(\n",
    "    input_bbh_dir=output_bbh_path,\n",
    "    output_dir=output_gene_info_path,\n",
    "    reference_order=['MG1655', 'BL21', 'C', 'Crooks', 'W', 'W3110'],  # optional: specify order\n",
    "    bbh_threshold=90  # optional: minimum percent identity threshold\n",
    ")\n",
    "\n",
    "print(f\"\\nCombined gene database shape: {combined_gene_db.shape}\")\n",
    "print(f\"Number of gene groups: {len(combined_gene_db)}\")\n",
    "print(f\"\\nFirst 5 gene groups:\")\n",
    "combined_gene_db.head()"
   ]
  },
  {
   "cell_type": "markdown",
   "metadata": {},
   "source": [
    "## Step 4: Create Gene Tables\n",
    "\n",
    "Parse GFF files to create gene annotation tables for each strain."
   ]
  },
  {
   "cell_type": "code",
   "execution_count": null,
   "metadata": {},
   "outputs": [],
   "source": [
    "# Create gene tables from GFF files\n",
    "print(\"Creating gene tables from GFF files...\")\n",
    "multiModulon.create_gene_table()\n",
    "\n",
    "# Check gene tables for each strain\n",
    "for strain_name in available_strains[:3]:  # Show first 3 strains\n",
    "    strain_data = multiModulon[strain_name]\n",
    "    if strain_data.gene_table is not None:\n",
    "        print(f\"\\n{strain_name} gene table:\")\n",
    "        print(f\"  Shape: {strain_data.gene_table.shape}\")\n",
    "        print(f\"  Columns: {list(strain_data.gene_table.columns)}\")\n",
    "        print(f\"\\n  First 3 genes:\")\n",
    "        display(strain_data.gene_table.head(3))"
   ]
  },
  {
   "cell_type": "markdown",
   "metadata": {},
   "source": [
    "## Step 5: Generate Aligned Expression Matrices\n",
    "\n",
    "Create expression matrices with consistent gene indexing across all strains for multi-view ICA."
   ]
  },
  {
   "cell_type": "code",
   "execution_count": null,
   "metadata": {},
   "outputs": [],
   "source": [
    "# Generate aligned expression matrices\n",
    "print(\"Generating aligned expression matrices...\")\n",
    "multiModulon.generate_X(output_gene_info_path)\n",
    "\n",
    "# The output shows aligned X matrices and dimension recommendations"
   ]
  },
  {
   "cell_type": "code",
   "execution_count": null,
   "metadata": {},
   "outputs": [],
   "source": [
    "# Check aligned matrices\n",
    "print(\"\\nAligned X matrices:\")\n",
    "for strain_name in available_strains:\n",
    "    X = multiModulon[strain_name].X\n",
    "    non_zero = (X != 0).any(axis=1).sum()\n",
    "    print(f\"{strain_name}: {X.shape} ({non_zero} non-zero gene groups)\")\n",
    "\n",
    "# Verify that all matrices have the same gene index\n",
    "first_index = multiModulon[available_strains[0]].X.index\n",
    "all_same = all(multiModulon[strain].X.index.equals(first_index) for strain in available_strains)\n",
    "print(f\"\\nAll matrices have the same gene index: {all_same}\")"
   ]
  },
  {
   "cell_type": "markdown",
   "metadata": {},
   "source": [
    "## Step 6: Optimize Number of Core Components\n",
    "\n",
    "Use Cohen's d effect size metric to automatically determine the optimal number of core (shared) components."
   ]
  },
  {
   "cell_type": "code",
   "execution_count": null,
   "metadata": {},
   "outputs": [],
   "source": [
    "# Optimize number of core components\n",
    "print(\"Optimizing number of core components...\")\n",
    "print(\"This will test different values of k and find the optimal number.\")\n",
    "\n",
    "optimal_num_core_components = multiModulon.optimize_number_of_core_components(\n",
    "    metric='effect_size',          # Use Cohen's d effect size metric\n",
    "    effect_size_threshold=5,       # Components must have Cohen's d > 5\n",
    "    step=5,                        # Test k = 5, 10, 15, 20, ...\n",
    "    save_path='optimization_plots', # Save plots to directory\n",
    "    fig_size=(5, 3),              # Figure size\n",
    "    num_runs=1                     # Number of runs (increase for more robust results)\n",
    ")\n",
    "\n",
    "print(f\"\\nOptimal number of core components: {optimal_num_core_components}\")"
   ]
  },
  {
   "cell_type": "code",
   "execution_count": null,
   "metadata": {},
   "outputs": [],
   "source": [
    "# Display the optimization plot\n",
    "from IPython.display import Image, display\n",
    "import os\n",
    "\n",
    "if os.path.exists('optimization_plots/num_core_optimization.svg'):\n",
    "    print(\"Core component optimization plot saved to: optimization_plots/num_core_optimization.svg\")\n",
    "    # Note: SVG display in Jupyter might require conversion to PNG"
   ]
  },
  {
   "cell_type": "markdown",
   "metadata": {},
   "source": [
    "## Step 7: Optimize Number of Unique Components\n",
    "\n",
    "Determine the optimal number of unique (species-specific) components for each strain."
   ]
  },
  {
   "cell_type": "code",
   "execution_count": null,
   "metadata": {},
   "outputs": [],
   "source": [
    "# Optimize unique components for each species\n",
    "print(\"Optimizing unique components per species...\")\n",
    "print(\"This will test different numbers of unique components for each species.\\n\")\n",
    "\n",
    "optimal_unique, optimal_total = multiModulon.optimize_number_of_unique_components(\n",
    "    optimal_num_core_components=optimal_num_core_components,\n",
    "    step=5,\n",
    "    save_path='optimization_plots',\n",
    "    fig_size=(5, 3)\n",
    ")\n",
    "\n",
    "print(\"\\nOptimization complete!\")\n",
    "print(\"\\nOptimal unique components per species:\")\n",
    "for species, n_unique in optimal_unique.items():\n",
    "    print(f\"  {species}: {n_unique} unique components\")\n",
    "\n",
    "print(\"\\nOptimal total components per species:\")\n",
    "for species, n_total in optimal_total.items():\n",
    "    print(f\"  {species}: {n_total} total components (core + unique)\")"
   ]
  },
  {
   "cell_type": "markdown",
   "metadata": {},
   "source": [
    "## Step 8: Run Robust Multi-view ICA\n",
    "\n",
    "Perform robust multi-view ICA with multiple runs and clustering to identify consistent components."
   ]
  },
  {
   "cell_type": "code",
   "execution_count": null,
   "metadata": {},
   "outputs": [],
   "source": [
    "# Run robust multi-view ICA\n",
    "print(\"Running robust multi-view ICA with clustering...\")\n",
    "print(\"This performs multiple ICA runs and clusters the results for robustness.\\n\")\n",
    "\n",
    "M_matrices, A_matrices = multiModulon.run_robust_multiview_ica(\n",
    "    a=optimal_total,               # Dictionary of total components per species\n",
    "    c=optimal_num_core_components, # Number of core components\n",
    "    num_runs=100,                  # Number of runs for robustness\n",
    "    effect_size_threshold=5,       # Cohen's d threshold\n",
    "    seed=42                       # Random seed for reproducibility\n",
    ")\n",
    "\n",
    "print(\"\\nRobust ICA complete!\")"
   ]
  },
  {
   "cell_type": "code",
   "execution_count": null,
   "metadata": {},
   "outputs": [],
   "source": [
    "# Check ICA results\n",
    "print(\"ICA results summary:\")\n",
    "print(\"=\" * 60)\n",
    "\n",
    "for species_name in available_strains:\n",
    "    M = multiModulon[species_name].M\n",
    "    A = multiModulon[species_name].A\n",
    "    \n",
    "    if M is not None and A is not None:\n",
    "        # Count core and unique components\n",
    "        n_core = len([c for c in M.columns if c.startswith('Core_')])\n",
    "        n_unique = len([c for c in M.columns if c.startswith('Unique_')])\n",
    "        \n",
    "        print(f\"\\n{species_name}:\")\n",
    "        print(f\"  M matrix (genes × components): {M.shape}\")\n",
    "        print(f\"  A matrix (components × samples): {A.shape}\")\n",
    "        print(f\"  Components: {n_core} core, {n_unique} unique\")\n",
    "        \n",
    "        # Show component names\n",
    "        print(f\"  Core components: {[c for c in M.columns if c.startswith('Core_')][:5]}...\")\n",
    "        if n_unique > 0:\n",
    "            print(f\"  Unique components: {[c for c in M.columns if c.startswith('Unique_')][:5]}...\")"
   ]
  },
  {
   "cell_type": "markdown",
   "metadata": {},
   "source": [
    "## Step 9: Calculate Explained Variance\n",
    "\n",
    "Assess how much of the expression variance is explained by the ICA components."
   ]
  },
  {
   "cell_type": "code",
   "execution_count": null,
   "metadata": {},
   "outputs": [],
   "source": [
    "# Calculate explained variance\n",
    "print(\"Calculating explained variance for each species...\\n\")\n",
    "\n",
    "explained_var = multiModulon.calculate_explained_variance()\n",
    "\n",
    "# Create a bar plot of explained variance\n",
    "plt.figure(figsize=(8, 5))\n",
    "species_names = list(explained_var.keys())\n",
    "variances = list(explained_var.values())\n",
    "\n",
    "bars = plt.bar(species_names, variances, color='skyblue', edgecolor='navy')\n",
    "plt.xlabel('Species/Strain', fontsize=12)\n",
    "plt.ylabel('Explained Variance', fontsize=12)\n",
    "plt.title('Explained Variance by Species', fontsize=14, fontweight='bold')\n",
    "plt.ylim(0, 1.0)\n",
    "\n",
    "# Add value labels on bars\n",
    "for bar, var in zip(bars, variances):\n",
    "    plt.text(bar.get_x() + bar.get_width()/2, bar.get_height() + 0.01, \n",
    "             f'{var:.3f}', ha='center', va='bottom')\n",
    "\n",
    "plt.tight_layout()\n",
    "plt.show()\n",
    "\n",
    "# Print summary\n",
    "print(\"\\nExplained variance summary:\")\n",
    "for species, variance in explained_var.items():\n",
    "    print(f\"  {species}: {variance:.4f} ({variance*100:.2f}%)\")\n",
    "\n",
    "avg_variance = np.mean(list(explained_var.values()))\n",
    "print(f\"\\nAverage explained variance: {avg_variance:.4f} ({avg_variance*100:.2f}%)\")"
   ]
  },
  {
   "cell_type": "markdown",
   "metadata": {},
   "source": [
    "## Step 10: Visualize iModulon Weights\n",
    "\n",
    "Create visualizations showing how gene weights are distributed across the genome for specific components."
   ]
  },
  {
   "cell_type": "code",
   "execution_count": null,
   "metadata": {},
   "outputs": [],
   "source": [
    "# Visualize a core component for one species\n",
    "species_to_plot = 'MG1655' if 'MG1655' in available_strains else available_strains[0]\n",
    "core_component = 'Core_1'\n",
    "\n",
    "print(f\"Visualizing {core_component} for {species_to_plot}...\")\n",
    "\n",
    "multiModulon.view_iModulon_weights(\n",
    "    species=species_to_plot,\n",
    "    component=core_component,\n",
    "    save_path='imodulon_plots',\n",
    "    fig_size=(8, 5)\n",
    ")\n",
    "\n",
    "print(f\"Plot saved to: imodulon_plots/{species_to_plot}_{core_component}_iModulon.svg\")"
   ]
  },
  {
   "cell_type": "code",
   "execution_count": null,
   "metadata": {},
   "outputs": [],
   "source": [
    "# Visualize a unique component (if available)\n",
    "unique_components = [c for c in multiModulon[species_to_plot].M.columns if c.startswith('Unique_')]\n",
    "\n",
    "if unique_components:\n",
    "    unique_component = unique_components[0]\n",
    "    print(f\"\\nVisualizing {unique_component} for {species_to_plot}...\")\n",
    "    \n",
    "    multiModulon.view_iModulon_weights(\n",
    "        species=species_to_plot,\n",
    "        component=unique_component,\n",
    "        save_path='imodulon_plots',\n",
    "        fig_size=(8, 5)\n",
    "    )\n",
    "    \n",
    "    print(f\"Plot saved to: imodulon_plots/{species_to_plot}_{unique_component}_iModulon.svg\")\n",
    "else:\n",
    "    print(f\"\\nNo unique components found for {species_to_plot}\")"
   ]
  },
  {
   "cell_type": "code",
   "execution_count": null,
   "metadata": {},
   "outputs": [],
   "source": [
    "# Visualize a core component across all species\n",
    "print(f\"\\nVisualizing {core_component} across all species...\")\n",
    "\n",
    "multiModulon.view_core_iModulon_weights(\n",
    "    component=core_component,\n",
    "    save_path='imodulon_plots',\n",
    "    fig_size=(6, 4)\n",
    ")\n",
    "\n",
    "print(f\"\\nGenerated plots for {core_component} across all species in: imodulon_plots/\")"
   ]
  },
  {
   "cell_type": "markdown",
   "metadata": {},
   "source": [
    "## Step 11: Explore Component Details\n",
    "\n",
    "Examine the top genes in specific components to understand their biological functions."
   ]
  },
  {
   "cell_type": "code",
   "execution_count": null,
   "metadata": {},
   "outputs": [],
   "source": [
    "# Function to get top genes for a component\n",
    "def get_top_genes(species, component, n_top=20):\n",
    "    \"\"\"Get the top weighted genes for a specific component.\"\"\"\n",
    "    M = multiModulon[species].M\n",
    "    gene_table = multiModulon[species].gene_table\n",
    "    \n",
    "    # Get component weights\n",
    "    weights = M[component].abs().sort_values(ascending=False)\n",
    "    top_genes = weights.head(n_top)\n",
    "    \n",
    "    # Create results dataframe\n",
    "    results = pd.DataFrame({\n",
    "        'gene': top_genes.index,\n",
    "        'weight': M.loc[top_genes.index, component].values,\n",
    "        'abs_weight': top_genes.values\n",
    "    })\n",
    "    \n",
    "    # Add gene annotations if available\n",
    "    if gene_table is not None:\n",
    "        # Get annotations for genes that exist in gene_table\n",
    "        annotations = []\n",
    "        for gene in results['gene']:\n",
    "            if gene in gene_table.index:\n",
    "                gene_info = gene_table.loc[gene]\n",
    "                annotation = gene_info.get('product', 'N/A')\n",
    "                annotations.append(annotation)\n",
    "            else:\n",
    "                annotations.append('N/A')\n",
    "        results['annotation'] = annotations\n",
    "    \n",
    "    return results\n",
    "\n",
    "# Example: Get top genes for Core_1\n",
    "species_example = 'MG1655' if 'MG1655' in available_strains else available_strains[0]\n",
    "top_genes_core1 = get_top_genes(species_example, 'Core_1', n_top=15)\n",
    "\n",
    "print(f\"Top 15 genes in {core_component} for {species_example}:\")\n",
    "display(top_genes_core1)"
   ]
  },
  {
   "cell_type": "code",
   "execution_count": null,
   "metadata": {},
   "outputs": [],
   "source": [
    "# Compare Core_1 across multiple species\n",
    "print(f\"Comparing top genes in {core_component} across species:\\n\")\n",
    "\n",
    "n_species_to_compare = min(3, len(available_strains))\n",
    "for species in available_strains[:n_species_to_compare]:\n",
    "    print(f\"\\n{species}:\")\n",
    "    top_genes = get_top_genes(species, core_component, n_top=10)\n",
    "    print(top_genes[['gene', 'weight', 'abs_weight']].to_string(index=False))"
   ]
  },
  {
   "cell_type": "markdown",
   "metadata": {},
   "source": [
    "## Step 12: Save Analysis Results\n",
    "\n",
    "Save the complete MultiModulon object for future use."
   ]
  },
  {
   "cell_type": "code",
   "execution_count": null,
   "metadata": {},
   "outputs": [],
   "source": [
    "# Save the entire analysis\n",
    "save_filename = 'multimodulon_analysis_complete.json'\n",
    "\n",
    "print(f\"Saving complete analysis to {save_filename}...\")\n",
    "multiModulon.save_to_json_multimodulon(save_filename)\n",
    "print(\"✓ Analysis saved successfully!\")\n",
    "\n",
    "# Demonstrate loading\n",
    "print(\"\\nTesting load functionality...\")\n",
    "loaded_multiModulon = MultiModulon.load_json_multimodulon(save_filename)\n",
    "print(f\"✓ Successfully loaded {len(loaded_multiModulon._species_data)} species from JSON\")\n",
    "\n",
    "# Verify loaded data\n",
    "print(\"\\nVerifying loaded data:\")\n",
    "for species in available_strains[:2]:\n",
    "    original_M = multiModulon[species].M\n",
    "    loaded_M = loaded_multiModulon[species].M\n",
    "    if original_M is not None and loaded_M is not None:\n",
    "        is_equal = original_M.equals(loaded_M)\n",
    "        print(f\"  {species} M matrix matches: {is_equal}\")"
   ]
  },
  {
   "cell_type": "markdown",
   "metadata": {},
   "source": [
    "## Summary\n",
    "\n",
    "This notebook demonstrated the complete MultiModulon workflow:\n",
    "\n",
    "1. **Data Loading**: Initialized MultiModulon with expression data from multiple strains\n",
    "2. **BBH Generation**: Created ortholog mappings between all strain pairs\n",
    "3. **Gene Alignment**: Built a unified gene database across strains\n",
    "4. **Data Preparation**: Generated aligned expression matrices for ICA\n",
    "5. **Optimization**: Found optimal numbers of core and unique components\n",
    "6. **Robust ICA**: Performed multi-view ICA with clustering for robustness\n",
    "7. **Analysis**: Calculated explained variance and explored component content\n",
    "8. **Visualization**: Created plots showing gene weight distributions\n",
    "9. **Persistence**: Saved and loaded the complete analysis\n",
    "\n",
    "### Generated Files:\n",
    "- BBH files: `Output_BBH/`\n",
    "- Gene alignment: `Output_Gene_Info/combined_gene_db.csv`\n",
    "- Optimization plots: `optimization_plots/`\n",
    "- ICA clustering plots: `ica_clustering_plots/`\n",
    "- iModulon visualizations: `imodulon_plots/`\n",
    "- Complete analysis: `multimodulon_analysis_complete.json`\n",
    "\n",
    "### Next Steps:\n",
    "- Explore biological functions of identified components\n",
    "- Compare component activities across conditions\n",
    "- Integrate with additional omics data\n",
    "- Perform enrichment analysis on component genes"
   ]
  },
  {
   "cell_type": "code",
   "execution_count": null,
   "metadata": {},
   "outputs": [],
   "source": [
    "# Final summary statistics\n",
    "print(\"Analysis Summary Statistics:\")\n",
    "print(\"=\" * 50)\n",
    "print(f\"Number of strains analyzed: {len(available_strains)}\")\n",
    "print(f\"Number of gene groups: {len(combined_gene_db)}\")\n",
    "print(f\"Optimal core components: {optimal_num_core_components}\")\n",
    "print(f\"\\nComponents per strain:\")\n",
    "for species, total in optimal_total.items():\n",
    "    unique = optimal_unique[species]\n",
    "    print(f\"  {species}: {total} total ({optimal_num_core_components} core + {unique} unique)\")\n",
    "\n",
    "print(f\"\\nAverage explained variance: {avg_variance:.3f}\")\n",
    "print(\"\\n✓ Analysis complete!\")"
   ]
  }
 ],
 "metadata": {
  "kernelspec": {
   "display_name": "Python [conda env:multimodulon_dev]",
   "language": "python",
   "name": "conda-env-multimodulon_dev-py"
  },
  "language_info": {
   "codemirror_mode": {
    "name": "ipython",
    "version": 3
   },
   "file_extension": ".py",
   "mimetype": "text/x-python",
   "name": "python",
   "nbconvert_exporter": "python",
   "pygments_lexer": "ipython3",
   "version": "3.11.13"
  }
 },
 "nbformat": 4,
 "nbformat_minor": 4
}
